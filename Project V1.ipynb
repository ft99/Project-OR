{
 "cells": [
  {
   "cell_type": "code",
   "execution_count": null,
   "metadata": {
    "collapsed": true
   },
   "outputs": [],
   "source": [
    "# Import different packages "
   ]
  },
  {
   "cell_type": "code",
   "execution_count": null,
   "metadata": {
    "collapsed": true
   },
   "outputs": [],
   "source": [
    "import numpy as np\n",
    "import scipy.stats as stats\n",
    "import scipy.optimize as optimize\n",
    "import matplotlib.pyplot as plt"
   ]
  },
  {
   "cell_type": "code",
   "execution_count": null,
   "metadata": {
    "collapsed": true
   },
   "outputs": [],
   "source": [
    "# alpha is the shape parameter of the Gamma distribution. beta is the rate (scale) parameter of the Gamma distribution"
   ]
  },
  {
   "cell_type": "code",
   "execution_count": null,
   "metadata": {
    "collapsed": true
   },
   "outputs": [],
   "source": [
    "eta = np.arange(0.005, 2.5,0.005)\n",
    "answer = np.zeros([499 2])\n",
    "lambda_vec = np.zeros(499)\n",
    "mu_vec = np.zeros(499)"
   ]
  },
  {
   "cell_type": "code",
   "execution_count": null,
   "metadata": {
    "collapsed": true
   },
   "outputs": [],
   "source": [
    "for i in range(len(eta)):\n",
    "    def solver_two(v):\n",
    "        \n",
    "        zeta = 5.0\n",
    "        lambda_con = 5.0\n",
    "        mu_con = 5.0\n",
    "        \n",
    "        lambda_var = v[0]\n",
    "        mu_var = v[1]\n",
    "        \n",
    "        f = np.zeros(2)\n",
    "        f = np.zeros(2)\n",
    "        f[0] = lambda_con*stats.expon.cdf(eta[i]/(zeta+1/(mu_var-lambda_var))) - lambda_var\n",
    "        f[1] = mu_con*(stats.uniform.cdf(lambda_var/mu_var))*(1-stats.expon.cdf(eta[i])) - mu_var\n",
    "         \n",
    "        return f\n",
    "    \n",
    "    v = optimize.fsolve((solver_two, (2,0.9)))\n",
    "    answer[i] = v\n",
    "    "
   ]
  },
  {
   "cell_type": "code",
   "execution_count": null,
   "metadata": {
    "collapsed": true
   },
   "outputs": [],
   "source": [
    "for j in range(len(answer)):\n",
    "    lambda_vec[j] = answer[j][0]\n",
    "    mu_vec[j] = answer[j][1]"
   ]
  },
  {
   "cell_type": "code",
   "execution_count": null,
   "metadata": {
    "collapsed": true
   },
   "outputs": [],
   "source": [
    "fig, ax = plt.subplots()\n",
    "ax.plot(eta, lambda_vec, color='green', label='Lambda')\n",
    "ax.plot(eta, mu_vec, color='blue', label='Mu')\n",
    "ax.set_xlabel('value of eta')\n",
    "ax.set_ylabel('lambda and mu')\n",
    "ax.legend()\n",
    "ax.set_title('lambda, mu vs. eta graph')\n",
    "plt.show()"
   ]
  }
 ],
 "metadata": {
  "anaconda-cloud": {},
  "kernelspec": {
   "display_name": "Python [conda root]",
   "language": "python",
   "name": "conda-root-py"
  },
  "language_info": {
   "codemirror_mode": {
    "name": "ipython",
    "version": 3
   },
   "file_extension": ".py",
   "mimetype": "text/x-python",
   "name": "python",
   "nbconvert_exporter": "python",
   "pygments_lexer": "ipython3",
   "version": "3.5.2"
  }
 },
 "nbformat": 4,
 "nbformat_minor": 1
}
